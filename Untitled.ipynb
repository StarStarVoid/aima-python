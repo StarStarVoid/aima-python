{
 "cells": [
  {
   "cell_type": "code",
   "execution_count": 11,
   "metadata": {
    "collapsed": true
   },
   "outputs": [],
   "source": [
    "from agents import XYEnvironment, Thing\n"
   ]
  },
  {
   "cell_type": "code",
   "execution_count": 12,
   "metadata": {
    "collapsed": true
   },
   "outputs": [],
   "source": [
    "from ipyviews import *"
   ]
  },
  {
   "cell_type": "code",
   "execution_count": 13,
   "metadata": {
    "collapsed": true
   },
   "outputs": [],
   "source": [
    "our_world = XYEnvironment(5,5)"
   ]
  },
  {
   "cell_type": "code",
   "execution_count": 14,
   "metadata": {
    "collapsed": false
   },
   "outputs": [],
   "source": [
    "our_view = GridWorldView(our_world, block_size = 50,default_fill='white')"
   ]
  },
  {
   "cell_type": "code",
   "execution_count": 15,
   "metadata": {
    "collapsed": false
   },
   "outputs": [
    {
     "data": {
      "text/html": [
       "\n",
       "<div class=\"map-grid-world\" >\n",
       "    <canvas data-world_name=\"our_view\"></canvas>\n",
       "    <div style=\"min-height:20px;\">\n",
       "        <span></span>\n",
       "    </div>\n",
       "</div>\n",
       "<script type=\"text/javascript\">\n",
       "var gridArray = [[{\"tooltip\": \"\", \"val\": \"default\"}, {\"tooltip\": \"\", \"val\": \"default\"}, {\"tooltip\": \"\", \"val\": \"default\"}, {\"tooltip\": \"\", \"val\": \"default\"}, {\"tooltip\": \"\", \"val\": \"default\"}], [{\"tooltip\": \"\", \"val\": \"default\"}, {\"tooltip\": \"\", \"val\": \"default\"}, {\"tooltip\": \"\", \"val\": \"default\"}, {\"tooltip\": \"\", \"val\": \"default\"}, {\"tooltip\": \"\", \"val\": \"default\"}], [{\"tooltip\": \"\", \"val\": \"default\"}, {\"tooltip\": \"\", \"val\": \"default\"}, {\"tooltip\": \"\", \"val\": \"default\"}, {\"tooltip\": \"\", \"val\": \"default\"}, {\"tooltip\": \"\", \"val\": \"default\"}], [{\"tooltip\": \"\", \"val\": \"default\"}, {\"tooltip\": \"\", \"val\": \"default\"}, {\"tooltip\": \"\", \"val\": \"default\"}, {\"tooltip\": \"\", \"val\": \"default\"}, {\"tooltip\": \"\", \"val\": \"default\"}], [{\"tooltip\": \"\", \"val\": \"default\"}, {\"tooltip\": \"\", \"val\": \"default\"}, {\"tooltip\": \"\", \"val\": \"default\"}, {\"tooltip\": \"\", \"val\": \"default\"}, {\"tooltip\": \"\", \"val\": \"default\"}]] , size = 50 , elements = {\"default\": {\"type\": \"color\", \"source\": \"white\"}};\n",
       "var latest_output_area =\"NONE\"; // Jquery object for the DOM element of output area which was used most recently\n",
       "\n",
       "function handle_output(out, block){\n",
       "    var output = out.content.data[\"text/html\"];\n",
       "    latest_output_area.html(output);\n",
       "}\n",
       "\n",
       "function handle_click(canvas,coord) {\n",
       "\tconsole.log(canvas,coord);\n",
       "\tlatest_output_area = $(canvas).parents('.output_subarea');\n",
       "\t$(canvas).parents('.output_subarea')\n",
       "    var world_object_name = canvas.dataset.world_name;\n",
       "    var command = world_object_name + \".handle_click(\" + JSON.stringify(coord) + \")\";\n",
       "    console.log(\"Executing Command: \" + command);\n",
       "    var kernel = IPython.notebook.kernel;\n",
       "    var callbacks = { 'iopub' : {'output' : handle_output}};\n",
       "    kernel.execute(command,callbacks);\n",
       "};\n",
       "\n",
       "\n",
       "function generateGridWorld(state,size,elements)\n",
       "{\n",
       "\t// Declaring array to store image object\n",
       "\tvar $imgArray = new Object(), hasImg=false;\n",
       "\t// Loading images LOOP\n",
       "\t$.each(elements, function(i, val) {\n",
       "\t    // filtering for type img\n",
       "\t    if(val[\"type\"]==\"img\") {\n",
       "\t    \t// setting image load\n",
       "\t    \thasImg = true;\n",
       "\t\t    $imgArray[i] = $('<img />').attr({height:size,width:size,src:val[\"source\"]}).data({name:i,loaded:false}).load(function(){\n",
       "\t\t    \t// Check for all image loaded\n",
       "\t\t    \tvar execute=true;\n",
       "\t\t    \t$(this).data(\"loaded\",true);\n",
       "\t\t    \t$.each($imgArray, function(i, val) {\n",
       "\t\t    \t\tif(!$(this).data(\"loaded\")) {\n",
       "\t\t    \t\t\texecute=false;\n",
       "\t\t    \t\t\t// exit on unloaded image\n",
       "\t\t    \t\t\treturn false;\n",
       "\t\t    \t\t}\n",
       "\t\t    \t});\t\n",
       "\t\t    \tif (execute) {\n",
       "\t\t    \t\t// Converting loaded image to canvas covering block size.\n",
       "\t\t    \t\t$.each($imgArray, function(i, val) {\n",
       "\t\t    \t\t\t$imgArray[i] = $('<canvas />').attr({width:size,height:size}).get(0);\n",
       "\t\t    \t\t\t$imgArray[i].getContext('2d').drawImage(val.get(0),0,0,size,size);\n",
       "\t\t    \t\t});\t\n",
       "\t\t    \t\t// initialize the world\n",
       "\t\t    \t\tinitializeWorld();\t\n",
       "\t\t    \t}\n",
       "\t\t    });\n",
       "\t    }\n",
       "\t});\n",
       "\n",
       "\tif(!hasImg) {\n",
       "\t\tinitializeWorld();\n",
       "\t}\n",
       "\n",
       "\tfunction initializeWorld(){\n",
       "\t\tvar $parentDiv = $('div.map-grid-world');\n",
       "\t\t// remove object reference\n",
       "\t\t$('div.map-grid-world').removeClass('map-grid-world');\n",
       "\t\t// get some info about the canvas\n",
       "\t\tvar row = state.length;\n",
       "\t\tvar column = state[0].length;\n",
       "\t\tvar canvas = $parentDiv.find('canvas').get(0);\n",
       "\t\tvar ctx = canvas.getContext('2d');\n",
       "\t\tcanvas.width =  size * column;\n",
       "\t\tcanvas.height = size * row;\n",
       "\t\t\n",
       "\t\t//Initialize previous positions\n",
       "\t\tfor(var i=0;i<row;++i) {\n",
       "\t\t\tfor (var j = 0; j < column;++j) {\n",
       "\t\t\t\tif(elements[state[i][j][\"val\"]][\"type\"]==\"color\") {\n",
       "\t\t\t\t\tif( state[i][j][\"val\"] == \"default\") {\n",
       "\t\t\t\t\t\tblockCreate('black',elements[state[i][j][\"val\"]][\"source\"], i, j);\n",
       "\t\t\t\t\t}\n",
       "\t\t\t\t\telse {\n",
       "\t\t\t\t\t\tblockCreate('transparent',elements[state[i][j][\"val\"]][\"source\"], i, j);\n",
       "\t\t\t\t\t}\n",
       "\t\t\t\t}\n",
       "\t\t\t\telse if(elements[state[i][j][\"val\"]][\"type\"]===\"img\") {\n",
       "\t\t\t\t\tpattern = ctx.createPattern($imgArray[state[i][j][\"val\"]], \"repeat\");\n",
       "\t\t\t\t\tblockCreate('transparent',pattern, i, j);\n",
       "\t\t\t\t}\n",
       "\t\t\t}\n",
       "\t\t}\n",
       "\n",
       "\t\t// function to create a block of given parameters\n",
       "\t\tfunction blockCreate(borderColor,fillColor,x,y) {\n",
       "\t        ctx.fillStyle = fillColor;\n",
       "\t\t\tctx.fillRect(y * size, x * size, size, size);\n",
       "\t\t\tctx.lineWidth=2;\n",
       "\t        ctx.strokeStyle = borderColor;\n",
       "\t\t\tctx.strokeRect((y * size)+1, (x * size)+1, size-2, size-2);\n",
       "\t\t}\n",
       "\n",
       "\t\t// click event, using jQuery for cross-browser convenience\n",
       "\t\t$(canvas).click(function(e) {\n",
       "\t\t    // calculate grid square numbers\n",
       "\t\t    var gy = ~~ (e.offsetX / size);\n",
       "\t\t    var gx = ~~ (e.offsetY/ size);\n",
       "\t\t    //handle click send data\n",
       "\t\t    var coord = new Array();\n",
       "\t\t    coord.push(gx,gy)\n",
       "\t\t    handle_click(canvas,coord)\n",
       "\t\t});\n",
       "\n",
       "\t\t// Display tooltip and change on mousemove and mouseout\n",
       "\t\tvar nameElement = $parentDiv.find('span');\n",
       "\t\t$(canvas).mousemove(function(e) {\n",
       "\t\t    //calculate grid square numbers\n",
       "\t\t    var gy = ~~ (e.offsetX / size);\n",
       "\t\t    var gx = ~~ (e.offsetY/ size);\n",
       "\t\t    // updating tooltip\n",
       "\t\t    if( gx>=0 && gx<row && gy>=0 && gy<column ) {\n",
       "\t\t    \tnameElement.html(state[gx][gy][\"tooltip\"]);    \n",
       "\t\t    }\n",
       "\t\t}).mouseout(function(){\n",
       "\t\t    nameElement.html(\"\");    \n",
       "\t\t});\n",
       "\t};\n",
       "};\n",
       "\n",
       "// function call\n",
       "generateGridWorld(gridArray,size,elements);\n",
       "</script>\n"
      ],
      "text/plain": [
       "<IPython.core.display.HTML object>"
      ]
     },
     "metadata": {},
     "output_type": "display_data"
    }
   ],
   "source": [
    "our_view.show()"
   ]
  },
  {
   "cell_type": "code",
   "execution_count": 16,
   "metadata": {
    "collapsed": false
   },
   "outputs": [],
   "source": [
    "our_world.add_thing(Thing(), (2, 2))\n"
   ]
  },
  {
   "cell_type": "code",
   "execution_count": 17,
   "metadata": {
    "collapsed": false
   },
   "outputs": [
    {
     "ename": "KeyError",
     "evalue": "'Representation not found for Thing'",
     "output_type": "error",
     "traceback": [
      "\u001b[1;31m---------------------------------------------------------------------------\u001b[0m",
      "\u001b[1;31mKeyError\u001b[0m                                  Traceback (most recent call last)",
      "\u001b[1;32m<ipython-input-17-1e40e0abc9ce>\u001b[0m in \u001b[0;36m<module>\u001b[1;34m()\u001b[0m\n\u001b[1;32m----> 1\u001b[1;33m \u001b[0mour_view\u001b[0m\u001b[1;33m.\u001b[0m\u001b[0mshow\u001b[0m\u001b[1;33m(\u001b[0m\u001b[1;33m)\u001b[0m\u001b[1;33m\u001b[0m\u001b[0m\n\u001b[0m",
      "\u001b[1;32m/home/machine/soc16/nplots/aima-python/ipyviews.py\u001b[0m in \u001b[0;36mshow\u001b[1;34m(self)\u001b[0m\n\u001b[0;32m    151\u001b[0m     \u001b[1;32mdef\u001b[0m \u001b[0mshow\u001b[0m\u001b[1;33m(\u001b[0m\u001b[0mself\u001b[0m\u001b[1;33m)\u001b[0m\u001b[1;33m:\u001b[0m\u001b[1;33m\u001b[0m\u001b[0m\n\u001b[0;32m    152\u001b[0m         \u001b[0mclear_output\u001b[0m\u001b[1;33m(\u001b[0m\u001b[1;33m)\u001b[0m\u001b[1;33m\u001b[0m\u001b[0m\n\u001b[1;32m--> 153\u001b[1;33m         total_html = _GRID_WORLD_HTML.format(self.object_name(), self.map_to_render(),\n\u001b[0m\u001b[0;32m    154\u001b[0m             self.block_size, json.dumps(self.representation), _JS_GRID_WORLD)\n\u001b[0;32m    155\u001b[0m         \u001b[0mdisplay\u001b[0m\u001b[1;33m(\u001b[0m\u001b[0mHTML\u001b[0m\u001b[1;33m(\u001b[0m\u001b[0mtotal_html\u001b[0m\u001b[1;33m)\u001b[0m\u001b[1;33m)\u001b[0m\u001b[1;33m\u001b[0m\u001b[0m\n",
      "\u001b[1;32m/home/machine/soc16/nplots/aima-python/ipyviews.py\u001b[0m in \u001b[0;36mmap_to_render\u001b[1;34m(self)\u001b[0m\n\u001b[0;32m    140\u001b[0m             \u001b[0mthing_class_name\u001b[0m \u001b[1;33m=\u001b[0m \u001b[0mthing\u001b[0m\u001b[1;33m.\u001b[0m\u001b[0m__class__\u001b[0m\u001b[1;33m.\u001b[0m\u001b[0m__name__\u001b[0m\u001b[1;33m\u001b[0m\u001b[0m\n\u001b[0;32m    141\u001b[0m             \u001b[1;32mif\u001b[0m \u001b[0mthing_class_name\u001b[0m \u001b[1;32mnot\u001b[0m \u001b[1;32min\u001b[0m \u001b[0mself\u001b[0m\u001b[1;33m.\u001b[0m\u001b[0mrepresentation\u001b[0m\u001b[1;33m:\u001b[0m\u001b[1;33m\u001b[0m\u001b[0m\n\u001b[1;32m--> 142\u001b[1;33m                 \u001b[1;32mraise\u001b[0m \u001b[0mKeyError\u001b[0m\u001b[1;33m(\u001b[0m\u001b[1;34m'Representation not found for {}'\u001b[0m\u001b[1;33m.\u001b[0m\u001b[0mformat\u001b[0m\u001b[1;33m(\u001b[0m\u001b[0mthing_class_name\u001b[0m\u001b[1;33m)\u001b[0m\u001b[1;33m)\u001b[0m\u001b[1;33m\u001b[0m\u001b[0m\n\u001b[0m\u001b[0;32m    143\u001b[0m             \u001b[0mworld_map\u001b[0m\u001b[1;33m[\u001b[0m\u001b[0mrow\u001b[0m\u001b[1;33m]\u001b[0m\u001b[1;33m[\u001b[0m\u001b[0mcolumn\u001b[0m\u001b[1;33m]\u001b[0m\u001b[1;33m[\u001b[0m\u001b[1;34m\"val\"\u001b[0m\u001b[1;33m]\u001b[0m \u001b[1;33m=\u001b[0m \u001b[0mthing\u001b[0m\u001b[1;33m.\u001b[0m\u001b[0m__class__\u001b[0m\u001b[1;33m.\u001b[0m\u001b[0m__name__\u001b[0m\u001b[1;33m\u001b[0m\u001b[0m\n\u001b[0;32m    144\u001b[0m \u001b[1;33m\u001b[0m\u001b[0m\n",
      "\u001b[1;31mKeyError\u001b[0m: 'Representation not found for Thing'"
     ]
    }
   ],
   "source": [
    "our_view.show()\n"
   ]
  },
  {
   "cell_type": "code",
   "execution_count": 18,
   "metadata": {
    "collapsed": false
   },
   "outputs": [],
   "source": [
    "our_view.set_label((1,2), \"wrfasdf\")"
   ]
  },
  {
   "cell_type": "code",
   "execution_count": 19,
   "metadata": {
    "collapsed": false
   },
   "outputs": [],
   "source": [
    "our_view.set_representation(Thing(), \"img\", \"images/dirt05-icon.jpg\")"
   ]
  },
  {
   "cell_type": "code",
   "execution_count": 20,
   "metadata": {
    "collapsed": false
   },
   "outputs": [
    {
     "data": {
      "text/html": [
       "\n",
       "<div class=\"map-grid-world\" >\n",
       "    <canvas data-world_name=\"our_view\"></canvas>\n",
       "    <div style=\"min-height:20px;\">\n",
       "        <span></span>\n",
       "    </div>\n",
       "</div>\n",
       "<script type=\"text/javascript\">\n",
       "var gridArray = [[{\"tooltip\": \"\", \"val\": \"default\"}, {\"tooltip\": \"\", \"val\": \"default\"}, {\"tooltip\": \"\", \"val\": \"default\"}, {\"tooltip\": \"\", \"val\": \"default\"}, {\"tooltip\": \"\", \"val\": \"default\"}], [{\"tooltip\": \"\", \"val\": \"default\"}, {\"tooltip\": \"\", \"val\": \"default\"}, {\"tooltip\": \"wrfasdf\", \"val\": \"default\"}, {\"tooltip\": \"\", \"val\": \"default\"}, {\"tooltip\": \"\", \"val\": \"default\"}], [{\"tooltip\": \"\", \"val\": \"default\"}, {\"tooltip\": \"\", \"val\": \"default\"}, {\"tooltip\": \"\", \"val\": \"Thing\"}, {\"tooltip\": \"\", \"val\": \"default\"}, {\"tooltip\": \"\", \"val\": \"default\"}], [{\"tooltip\": \"\", \"val\": \"default\"}, {\"tooltip\": \"\", \"val\": \"default\"}, {\"tooltip\": \"\", \"val\": \"default\"}, {\"tooltip\": \"\", \"val\": \"default\"}, {\"tooltip\": \"\", \"val\": \"default\"}], [{\"tooltip\": \"\", \"val\": \"default\"}, {\"tooltip\": \"\", \"val\": \"default\"}, {\"tooltip\": \"\", \"val\": \"default\"}, {\"tooltip\": \"\", \"val\": \"default\"}, {\"tooltip\": \"\", \"val\": \"default\"}]] , size = 50 , elements = {\"Thing\": {\"type\": \"img\", \"source\": \"images/dirt05-icon.jpg\"}, \"default\": {\"type\": \"color\", \"source\": \"white\"}};\n",
       "var latest_output_area =\"NONE\"; // Jquery object for the DOM element of output area which was used most recently\n",
       "\n",
       "function handle_output(out, block){\n",
       "    var output = out.content.data[\"text/html\"];\n",
       "    latest_output_area.html(output);\n",
       "}\n",
       "\n",
       "function handle_click(canvas,coord) {\n",
       "\tconsole.log(canvas,coord);\n",
       "\tlatest_output_area = $(canvas).parents('.output_subarea');\n",
       "\t$(canvas).parents('.output_subarea')\n",
       "    var world_object_name = canvas.dataset.world_name;\n",
       "    var command = world_object_name + \".handle_click(\" + JSON.stringify(coord) + \")\";\n",
       "    console.log(\"Executing Command: \" + command);\n",
       "    var kernel = IPython.notebook.kernel;\n",
       "    var callbacks = { 'iopub' : {'output' : handle_output}};\n",
       "    kernel.execute(command,callbacks);\n",
       "};\n",
       "\n",
       "\n",
       "function generateGridWorld(state,size,elements)\n",
       "{\n",
       "\t// Declaring array to store image object\n",
       "\tvar $imgArray = new Object(), hasImg=false;\n",
       "\t// Loading images LOOP\n",
       "\t$.each(elements, function(i, val) {\n",
       "\t    // filtering for type img\n",
       "\t    if(val[\"type\"]==\"img\") {\n",
       "\t    \t// setting image load\n",
       "\t    \thasImg = true;\n",
       "\t\t    $imgArray[i] = $('<img />').attr({height:size,width:size,src:val[\"source\"]}).data({name:i,loaded:false}).load(function(){\n",
       "\t\t    \t// Check for all image loaded\n",
       "\t\t    \tvar execute=true;\n",
       "\t\t    \t$(this).data(\"loaded\",true);\n",
       "\t\t    \t$.each($imgArray, function(i, val) {\n",
       "\t\t    \t\tif(!$(this).data(\"loaded\")) {\n",
       "\t\t    \t\t\texecute=false;\n",
       "\t\t    \t\t\t// exit on unloaded image\n",
       "\t\t    \t\t\treturn false;\n",
       "\t\t    \t\t}\n",
       "\t\t    \t});\t\n",
       "\t\t    \tif (execute) {\n",
       "\t\t    \t\t// Converting loaded image to canvas covering block size.\n",
       "\t\t    \t\t$.each($imgArray, function(i, val) {\n",
       "\t\t    \t\t\t$imgArray[i] = $('<canvas />').attr({width:size,height:size}).get(0);\n",
       "\t\t    \t\t\t$imgArray[i].getContext('2d').drawImage(val.get(0),0,0,size,size);\n",
       "\t\t    \t\t});\t\n",
       "\t\t    \t\t// initialize the world\n",
       "\t\t    \t\tinitializeWorld();\t\n",
       "\t\t    \t}\n",
       "\t\t    });\n",
       "\t    }\n",
       "\t});\n",
       "\n",
       "\tif(!hasImg) {\n",
       "\t\tinitializeWorld();\n",
       "\t}\n",
       "\n",
       "\tfunction initializeWorld(){\n",
       "\t\tvar $parentDiv = $('div.map-grid-world');\n",
       "\t\t// remove object reference\n",
       "\t\t$('div.map-grid-world').removeClass('map-grid-world');\n",
       "\t\t// get some info about the canvas\n",
       "\t\tvar row = state.length;\n",
       "\t\tvar column = state[0].length;\n",
       "\t\tvar canvas = $parentDiv.find('canvas').get(0);\n",
       "\t\tvar ctx = canvas.getContext('2d');\n",
       "\t\tcanvas.width =  size * column;\n",
       "\t\tcanvas.height = size * row;\n",
       "\t\t\n",
       "\t\t//Initialize previous positions\n",
       "\t\tfor(var i=0;i<row;++i) {\n",
       "\t\t\tfor (var j = 0; j < column;++j) {\n",
       "\t\t\t\tif(elements[state[i][j][\"val\"]][\"type\"]==\"color\") {\n",
       "\t\t\t\t\tif( state[i][j][\"val\"] == \"default\") {\n",
       "\t\t\t\t\t\tblockCreate('black',elements[state[i][j][\"val\"]][\"source\"], i, j);\n",
       "\t\t\t\t\t}\n",
       "\t\t\t\t\telse {\n",
       "\t\t\t\t\t\tblockCreate('transparent',elements[state[i][j][\"val\"]][\"source\"], i, j);\n",
       "\t\t\t\t\t}\n",
       "\t\t\t\t}\n",
       "\t\t\t\telse if(elements[state[i][j][\"val\"]][\"type\"]===\"img\") {\n",
       "\t\t\t\t\tpattern = ctx.createPattern($imgArray[state[i][j][\"val\"]], \"repeat\");\n",
       "\t\t\t\t\tblockCreate('transparent',pattern, i, j);\n",
       "\t\t\t\t}\n",
       "\t\t\t}\n",
       "\t\t}\n",
       "\n",
       "\t\t// function to create a block of given parameters\n",
       "\t\tfunction blockCreate(borderColor,fillColor,x,y) {\n",
       "\t        ctx.fillStyle = fillColor;\n",
       "\t\t\tctx.fillRect(y * size, x * size, size, size);\n",
       "\t\t\tctx.lineWidth=2;\n",
       "\t        ctx.strokeStyle = borderColor;\n",
       "\t\t\tctx.strokeRect((y * size)+1, (x * size)+1, size-2, size-2);\n",
       "\t\t}\n",
       "\n",
       "\t\t// click event, using jQuery for cross-browser convenience\n",
       "\t\t$(canvas).click(function(e) {\n",
       "\t\t    // calculate grid square numbers\n",
       "\t\t    var gy = ~~ (e.offsetX / size);\n",
       "\t\t    var gx = ~~ (e.offsetY/ size);\n",
       "\t\t    //handle click send data\n",
       "\t\t    var coord = new Array();\n",
       "\t\t    coord.push(gx,gy)\n",
       "\t\t    handle_click(canvas,coord)\n",
       "\t\t});\n",
       "\n",
       "\t\t// Display tooltip and change on mousemove and mouseout\n",
       "\t\tvar nameElement = $parentDiv.find('span');\n",
       "\t\t$(canvas).mousemove(function(e) {\n",
       "\t\t    //calculate grid square numbers\n",
       "\t\t    var gy = ~~ (e.offsetX / size);\n",
       "\t\t    var gx = ~~ (e.offsetY/ size);\n",
       "\t\t    // updating tooltip\n",
       "\t\t    if( gx>=0 && gx<row && gy>=0 && gy<column ) {\n",
       "\t\t    \tnameElement.html(state[gx][gy][\"tooltip\"]);    \n",
       "\t\t    }\n",
       "\t\t}).mouseout(function(){\n",
       "\t\t    nameElement.html(\"\");    \n",
       "\t\t});\n",
       "\t};\n",
       "};\n",
       "\n",
       "// function call\n",
       "generateGridWorld(gridArray,size,elements);\n",
       "</script>\n"
      ],
      "text/plain": [
       "<IPython.core.display.HTML object>"
      ]
     },
     "metadata": {},
     "output_type": "display_data"
    }
   ],
   "source": [
    "our_view.show()\n"
   ]
  },
  {
   "cell_type": "code",
   "execution_count": null,
   "metadata": {
    "collapsed": true
   },
   "outputs": [],
   "source": []
  }
 ],
 "metadata": {
  "kernelspec": {
   "display_name": "Python 3",
   "language": "python",
   "name": "python3"
  },
  "language_info": {
   "codemirror_mode": {
    "name": "ipython",
    "version": 3
   },
   "file_extension": ".py",
   "mimetype": "text/x-python",
   "name": "python",
   "nbconvert_exporter": "python",
   "pygments_lexer": "ipython3",
   "version": "3.4.3"
  }
 },
 "nbformat": 4,
 "nbformat_minor": 0
}
