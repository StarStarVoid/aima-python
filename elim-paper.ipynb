{
 "cells": [
  {
   "cell_type": "code",
   "execution_count": 1,
   "metadata": {
    "collapsed": true
   },
   "outputs": [],
   "source": [
    "class Factor(dict):\n",
    "\n",
    "    def __init__(self, variables, prob_mapping):\n",
    "        self.variables = variables\n",
    "        self.update(prob_mapping)\n",
    "\n",
    "    def __getitem__(self, mapping):\n",
    "        \"Return probability of row as key or filter mapping to obtain row and return its probability.\"\n",
    "        if isinstance(mapping, dict):\n",
    "            mapping = filter_event_values(self.variables, mapping)  # filter if type is dict\n",
    "        prob = dict.__getitem__(self, mapping)\n",
    "        return prob\n",
    "\n",
    "    def pointwise_product(self, other):\n",
    "        \"Multiply two factors, combining their variables.\"\n",
    "        variables = list(set(self.variables) | set(other.variables))\n",
    "        new_mapping = defaultdict(float)  # new_mapping contains union of vars in both factors\n",
    "        for new_row in all_events(variables):  # new_row is a row in new_mapping\n",
    "            p_self = self[Evidence(zip(variables, new_row))]\n",
    "            p_other = other[Evidence(zip(variables, new_row))]\n",
    "            # prob of new_row is product of compaitible rows in both factors.\n",
    "            new_mapping[new_row] = p_self * p_other\n",
    "        return Factor(variables, new_mapping)\n",
    "\n",
    "    def sum_out(self, var):\n",
    "        \"Make a factor eliminating var by summing over its values.\"\n",
    "        remaining_vars = [X for X in self.variables if X != var]\n",
    "        new_mapping = defaultdict(float)\n",
    "        for new_row in all_events(remaining_vars):  # new_row is a row in new_mapping\n",
    "            # prob of new_row is given by sum of prob of compaitable rows in current dist \n",
    "            new_mapping[new_row] = sum(self[row] for row in self if matches_evidence(row,\n",
    "                                       Evidence(zip(remaining_vars, new_row)), self.variables))\n",
    "        return Factor(remaining_vars, new_mapping)\n",
    "\n",
    "\n",
    "def matches_evidence(row, evidence, var_ordering):\n",
    "    \"Does the tuple of values for this row agree with the evidence given variable ordering of the tuple?\"\n",
    "    return all(evidence[v] == row[var_ordering.index(v)]\n",
    "               for v in evidence)\n",
    "\n",
    "\n",
    "def all_events(variables):\n",
    "    \"All possible events in joint dist of variables\"\n",
    "    return itertools.product(*[var.domain for var in variables])\n",
    "\n",
    "\n",
    "def filter_event_values(variable_list, event):\n",
    "    \"Filter and reorder event values to only include vars in variable_list in correct order.\"\n",
    "    return tuple(event[var] for var in variable_list)"
   ]
  },
  {
   "cell_type": "code",
   "execution_count": 4,
   "metadata": {
    "collapsed": false
   },
   "outputs": [],
   "source": [
    "def normalize(dist):\n",
    "    \"\"\"Multiply each number by a constant such that the sum is 1.0\"\"\"\n",
    "    if isinstance(dist, dict):\n",
    "        total = sum(dist.values())\n",
    "        for key in dist:\n",
    "            dist[key] = dist[key] / total\n",
    "            assert 0 <= dist[key] <= 1, \"Probabilities must be between 0 and 1.\"\n",
    "        return dist\n",
    "    total = sum(dist)\n",
    "    return [(n / total) for n in dist]"
   ]
  },
  {
   "cell_type": "code",
   "execution_count": 5,
   "metadata": {
    "collapsed": true
   },
   "outputs": [],
   "source": [
    "from collections import defaultdict, Counter\n",
    "import itertools\n",
    "import math\n",
    "import random\n",
    "\n",
    "class BayesNet(object):\n",
    "    \"Bayesian network: a graph of variables connected by parent links.\"\n",
    "     \n",
    "    def __init__(self): \n",
    "        self.variables = [] # List of variables, in parent-first topological sort order\n",
    "        self.lookup = {}    # Mapping of {variable_name: variable} pairs\n",
    "            \n",
    "    def add(self, name, parentnames, cpt):\n",
    "        \"Add a new Variable to the BayesNet. Parentnames must have been added previously.\"\n",
    "        parents = [self.lookup[name] for name in parentnames]\n",
    "        var = Variable(name, cpt, parents)\n",
    "        self.variables.append(var)\n",
    "        self.lookup[name] = var\n",
    "        return self\n",
    "    \n",
    "class Variable(object):\n",
    "    \"A discrete random variable; conditional on zero or more parent Variables.\"\n",
    "    \n",
    "    def __init__(self, name, cpt, parents=()):\n",
    "        \"A variable has a name, list of parent variables, and a Conditional Probability Table.\"\n",
    "        self.__name__ = name\n",
    "        self.parents  = parents\n",
    "        self.cpt      = CPTable(cpt, parents)\n",
    "        self.domain   = set(itertools.chain(*self.cpt.values())) # All the outcomes in the CPT\n",
    "                \n",
    "    def __repr__(self): return self.__name__\n",
    "    \n",
    "class ProbDist(Factor):\n",
    "    \"\"\"A Probability Distribution is an {outcome: probability} mapping. \n",
    "    The values are normalized to sum to 1.\n",
    "    ProbDist(0.75) is an abbreviation for ProbDist({T: 0.75, F: 0.25}).\"\"\"\n",
    "    def __init__(self, mapping=(), **kwargs):\n",
    "        if isinstance(mapping, float):\n",
    "            mapping = {T: mapping, F: 1 - mapping}\n",
    "        self.update(mapping, **kwargs)\n",
    "        normalize(self)\n",
    "        \n",
    "class Evidence(dict): \n",
    "    \"A {variable: value} mapping, describing what we know for sure.\"\n",
    "        \n",
    "class CPTable(dict):\n",
    "    \"A mapping of {row: ProbDist, ...} where each row is a tuple of values of the parent variables.\"\n",
    "    \n",
    "    def __init__(self, mapping, parents=()):\n",
    "        \"\"\"Provides two shortcuts for writing a Conditional Probability Table. \n",
    "        With no parents, CPTable(dist) means CPTable({(): dist}).\n",
    "        With one parent, CPTable({val: dist,...}) means CPTable({(val,): dist,...}).\"\"\"\n",
    "        if len(parents) == 0 and not (isinstance(mapping, dict) and set(mapping.keys()) == {()}):\n",
    "            mapping = {(): mapping}\n",
    "        for (row, dist) in mapping.items():\n",
    "            if len(parents) == 1 and not isinstance(row, tuple): \n",
    "                row = (row,)\n",
    "            self[row] = ProbDist(dist)\n",
    "\n",
    "class Bool(int):\n",
    "    \"Just like `bool`, except values display as 'T' and 'F' instead of 'True' and 'False'\"\n",
    "    __str__ = __repr__ = lambda self: 'T' if self else 'F'\n",
    "        \n",
    "T = Bool(True)\n",
    "F = Bool(False)"
   ]
  },
  {
   "cell_type": "code",
   "execution_count": 6,
   "metadata": {
    "collapsed": true
   },
   "outputs": [],
   "source": [
    "traffic_net = (BayesNet()\n",
    "    .add('Rain', [], 0.1)\n",
    "    .add('Traffic', ['Rain'], {T: 0.8, F: 0.1})\n",
    "    .add('Late', ['Traffic'], {T: 0.3, F: 0.1}))"
   ]
  },
  {
   "cell_type": "code",
   "execution_count": 13,
   "metadata": {
    "collapsed": true
   },
   "outputs": [],
   "source": [
    "def variable_to_factor(var):\n",
    "    # As a convention the first variable will be the variable itself\n",
    "    variables = [var]\n",
    "    variables.extend(var.parents)\n",
    "    factor_mapping = {}\n",
    "    for row in var.cpt:\n",
    "        for value, prob in var.cpt[row].items():\n",
    "            factor_mapping[(value,) + row] = prob\n",
    "\n",
    "    return Factor(variables, factor_mapping)\n",
    "            "
   ]
  },
  {
   "cell_type": "code",
   "execution_count": 14,
   "metadata": {
    "collapsed": false
   },
   "outputs": [],
   "source": [
    "all_factors = [variable_to_factor(variable) for variable in traffic_net.variables]"
   ]
  },
  {
   "cell_type": "code",
   "execution_count": 16,
   "metadata": {
    "collapsed": false
   },
   "outputs": [
    {
     "data": {
      "text/plain": [
       "[{(F,): 0.9, (T,): 0.1},\n",
       " {(F, F): 0.9, (F, T): 0.19999999999999996, (T, F): 0.1, (T, T): 0.8},\n",
       " {(F, F): 0.9, (F, T): 0.7, (T, F): 0.1, (T, T): 0.3}]"
      ]
     },
     "execution_count": 16,
     "metadata": {},
     "output_type": "execute_result"
    }
   ],
   "source": [
    "all_factors"
   ]
  },
  {
   "cell_type": "markdown",
   "metadata": {},
   "source": [
    "Lets find P(Late). Now Rain and Traffic are hidden vars which we need to eliminate. We will first join on R."
   ]
  },
  {
   "cell_type": "code",
   "execution_count": 17,
   "metadata": {
    "collapsed": true
   },
   "outputs": [],
   "source": [
    "rain_factor = all_factors[0]\n",
    "traffic_factor = all_factors[1]\n",
    "late_factor = all_factors[2]"
   ]
  },
  {
   "cell_type": "code",
   "execution_count": 19,
   "metadata": {
    "collapsed": false
   },
   "outputs": [],
   "source": [
    "join_rain_traffic = rain_factor.pointwise_product(traffic_factor)"
   ]
  },
  {
   "cell_type": "code",
   "execution_count": 20,
   "metadata": {
    "collapsed": false
   },
   "outputs": [
    {
     "data": {
      "text/plain": [
       "{(F, F): 0.81,\n",
       " (F, T): 0.019999999999999997,\n",
       " (T, F): 0.09000000000000001,\n",
       " (T, T): 0.08000000000000002}"
      ]
     },
     "execution_count": 20,
     "metadata": {},
     "output_type": "execute_result"
    }
   ],
   "source": [
    "join_rain_traffic"
   ]
  },
  {
   "cell_type": "markdown",
   "metadata": {},
   "source": [
    "Next we sumout R"
   ]
  },
  {
   "cell_type": "code",
   "execution_count": 21,
   "metadata": {
    "collapsed": false
   },
   "outputs": [
    {
     "data": {
      "text/plain": [
       "[Rain, Traffic, Late]"
      ]
     },
     "execution_count": 21,
     "metadata": {},
     "output_type": "execute_result"
    }
   ],
   "source": [
    "traffic_net.variables"
   ]
  },
  {
   "cell_type": "code",
   "execution_count": 22,
   "metadata": {
    "collapsed": true
   },
   "outputs": [],
   "source": [
    "r_summed_out = join_rain_traffic.sum_out(traffic_net.variables[0])"
   ]
  },
  {
   "cell_type": "code",
   "execution_count": 24,
   "metadata": {
    "collapsed": false
   },
   "outputs": [
    {
     "data": {
      "text/plain": [
       "{(F,): 0.8300000000000001, (T,): 0.17000000000000004}"
      ]
     },
     "execution_count": 24,
     "metadata": {},
     "output_type": "execute_result"
    }
   ],
   "source": [
    "r_summed_out # P(T)"
   ]
  },
  {
   "cell_type": "markdown",
   "metadata": {},
   "source": [
    "Now lets join on T"
   ]
  },
  {
   "cell_type": "code",
   "execution_count": 25,
   "metadata": {
    "collapsed": true
   },
   "outputs": [],
   "source": [
    "join_on_t = r_summed_out.pointwise_product(late_factor)"
   ]
  },
  {
   "cell_type": "code",
   "execution_count": 26,
   "metadata": {
    "collapsed": false
   },
   "outputs": [
    {
     "data": {
      "text/plain": [
       "{(F, F): 0.7470000000000001,\n",
       " (F, T): 0.08300000000000002,\n",
       " (T, F): 0.11900000000000002,\n",
       " (T, T): 0.05100000000000001}"
      ]
     },
     "execution_count": 26,
     "metadata": {},
     "output_type": "execute_result"
    }
   ],
   "source": [
    "join_on_t"
   ]
  },
  {
   "cell_type": "markdown",
   "metadata": {},
   "source": [
    "Now lets summout T to get our answer."
   ]
  },
  {
   "cell_type": "code",
   "execution_count": 27,
   "metadata": {
    "collapsed": true
   },
   "outputs": [],
   "source": [
    "ans = join_on_t.sum_out(traffic_net.variables[1])"
   ]
  },
  {
   "cell_type": "code",
   "execution_count": 28,
   "metadata": {
    "collapsed": false
   },
   "outputs": [
    {
     "data": {
      "text/plain": [
       "{(F,): 0.8660000000000001, (T,): 0.13400000000000004}"
      ]
     },
     "execution_count": 28,
     "metadata": {},
     "output_type": "execute_result"
    }
   ],
   "source": [
    "ans"
   ]
  },
  {
   "cell_type": "code",
   "execution_count": null,
   "metadata": {
    "collapsed": true
   },
   "outputs": [],
   "source": []
  }
 ],
 "metadata": {
  "kernelspec": {
   "display_name": "Python 3",
   "language": "python",
   "name": "python3"
  },
  "language_info": {
   "codemirror_mode": {
    "name": "ipython",
    "version": 3
   },
   "file_extension": ".py",
   "mimetype": "text/x-python",
   "name": "python",
   "nbconvert_exporter": "python",
   "pygments_lexer": "ipython3",
   "version": "3.4.3"
  },
  "widgets": {
   "state": {},
   "version": "1.1.1"
  }
 },
 "nbformat": 4,
 "nbformat_minor": 0
}
